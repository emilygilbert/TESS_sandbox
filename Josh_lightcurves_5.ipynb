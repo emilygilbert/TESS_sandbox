{
 "cells": [
  {
   "cell_type": "code",
   "execution_count": null,
   "metadata": {},
   "outputs": [],
   "source": [
    "%matplotlib inline\n",
    "import lightkurve as lk\n",
    "import numpy as np\n",
    "import matplotlib.pyplot as plt\n",
    "plt.rcParams.update({'figure.max_open_warning': 0})\n",
    "import warnings; warnings.simplefilter('ignore')"
   ]
  },
  {
   "cell_type": "code",
   "execution_count": null,
   "metadata": {},
   "outputs": [],
   "source": [
    "f = np.loadtxt('G011266.txt', dtype = 'str', delimiter = ',', skiprows = 10)\n",
    "\n",
    "IDs = f[:,0]\n",
    "print(len(IDs))\n",
    "\n",
    "proposal = f[:,4]"
   ]
  },
  {
   "cell_type": "code",
   "execution_count": null,
   "metadata": {
    "scrolled": false
   },
   "outputs": [],
   "source": [
    "ID_list = []\n",
    "\n",
    "#can adjust this for selecting targets unique to Josh's proposal\n",
    "#use: if len(p) == 7:\n",
    "for n, p in zip(IDs, proposal):\n",
    "    if len(p)>0:\n",
    "        ID_list.append(n)\n",
    "\n",
    "order = np.sort(ID_list)\n",
    "\n",
    "print(len(order))\n",
    "\n",
    "is_unique = []\n",
    "\n",
    "for i in order:\n",
    "    if i not in is_unique:\n",
    "        is_unique.append(i)\n",
    "\n",
    "#SHORTENED FOR TESTING PURPOSES\n",
    "is_unique = is_unique[:30]\n",
    "\n",
    "print(len(is_unique))\n",
    "\n",
    "for i in is_unique:\n",
    "\n",
    "    print(i)\n",
    "    \n",
    "    try:\n",
    "\n",
    "        tpf = lk.search_targetpixelfile('TIC {}'.format(i), sector=5).download()\n",
    "        \n",
    "        tpf.plot(aperture_mask=tpf.pipeline_mask)\n",
    "        lc = tpf.to_lightcurve(aperture_mask=tpf.pipeline_mask)\n",
    "\n",
    "        # Create a median image of the source over time\n",
    "        median_image = np.nanmedian(tpf.flux, axis=0)\n",
    "\n",
    "        # Select pixels which are brighter than the 85th percentile of the median image\n",
    "        aperture_mask = median_image > np.nanpercentile(median_image, 85)\n",
    "\n",
    "        # Plot that aperture\n",
    "        tpf.plot(aperture_mask=aperture_mask)\n",
    "        lc2 = tpf.to_lightcurve(aperture_mask=aperture_mask)\n",
    "\n",
    "        clipped_lc = lc.remove_outliers(sigma=6)\n",
    "        clipped_lc2 = lc2.remove_outliers(sigma=6)\n",
    "        \n",
    "        ax = clipped_lc.scatter()\n",
    "        ax = clipped_lc2.scatter()\n",
    "\n",
    "        #tpf.interact()\n",
    "\n",
    "    except:\n",
    "        pass\n",
    "    \n",
    "# Stops plotting at 117748478 every time"
   ]
  },
  {
   "cell_type": "code",
   "execution_count": null,
   "metadata": {},
   "outputs": [],
   "source": []
  },
  {
   "cell_type": "code",
   "execution_count": null,
   "metadata": {},
   "outputs": [],
   "source": []
  },
  {
   "cell_type": "code",
   "execution_count": null,
   "metadata": {},
   "outputs": [],
   "source": []
  },
  {
   "cell_type": "code",
   "execution_count": null,
   "metadata": {},
   "outputs": [],
   "source": []
  }
 ],
 "metadata": {
  "kernelspec": {
   "display_name": "Python 3",
   "language": "python",
   "name": "python3"
  },
  "language_info": {
   "codemirror_mode": {
    "name": "ipython",
    "version": 3
   },
   "file_extension": ".py",
   "mimetype": "text/x-python",
   "name": "python",
   "nbconvert_exporter": "python",
   "pygments_lexer": "ipython3",
   "version": "3.7.2"
  }
 },
 "nbformat": 4,
 "nbformat_minor": 2
}
