{
 "cells": [
  {
   "cell_type": "code",
   "execution_count": 1,
   "metadata": {},
   "outputs": [],
   "source": [
    "%matplotlib inline\n",
    "import numpy as np\n",
    "import matplotlib.pyplot as plt\n",
    "import lightkurve as lk\n",
    "import theano\n",
    "import exoplanet as xo\n",
    "import pymc3 as pm\n",
    "import theano.tensor as tt\n",
    "from scipy.signal import savgol_filter\n",
    "import corner"
   ]
  },
  {
   "cell_type": "code",
   "execution_count": 2,
   "metadata": {},
   "outputs": [],
   "source": [
    "import xoflares"
   ]
  },
  {
   "cell_type": "code",
   "execution_count": 3,
   "metadata": {},
   "outputs": [
    {
     "name": "stdout",
     "output_type": "stream",
     "text": [
      "0.1.5\n",
      "1.0.4\n",
      "3.5\n"
     ]
    }
   ],
   "source": [
    "print(xo.__version__)\n",
    "print(theano.__version__)\n",
    "print(pm.__version__)\n"
   ]
  },
  {
   "cell_type": "code",
   "execution_count": 4,
   "metadata": {},
   "outputs": [
    {
     "ename": "FileNotFoundError",
     "evalue": "[Errno 2] No such file or directory: '/Users/emilygilbert/.lightkurve-cache/mastDownload/TESS/tess2018206045859-s0001-0000000441420236-0120-s/tess2018206045859-s0001-0000000441420236-0120-s_lc.fits'",
     "output_type": "error",
     "traceback": [
      "\u001b[0;31m---------------------------------------------------------------------------\u001b[0m",
      "\u001b[0;31mFileNotFoundError\u001b[0m                         Traceback (most recent call last)",
      "\u001b[0;32m<ipython-input-4-9d87b2512d8c>\u001b[0m in \u001b[0;36m<module>\u001b[0;34m\u001b[0m\n\u001b[1;32m      1\u001b[0m \u001b[0mtarget\u001b[0m \u001b[0;34m=\u001b[0m \u001b[0;34m'AU Mic'\u001b[0m\u001b[0;34m\u001b[0m\u001b[0;34m\u001b[0m\u001b[0m\n\u001b[0;32m----> 2\u001b[0;31m \u001b[0mlcf\u001b[0m \u001b[0;34m=\u001b[0m \u001b[0mlk\u001b[0m\u001b[0;34m.\u001b[0m\u001b[0msearch_lightcurvefile\u001b[0m\u001b[0;34m(\u001b[0m\u001b[0mtarget\u001b[0m\u001b[0;34m)\u001b[0m\u001b[0;34m.\u001b[0m\u001b[0mdownload\u001b[0m\u001b[0;34m(\u001b[0m\u001b[0mquality_bitmask\u001b[0m\u001b[0;34m=\u001b[0m\u001b[0;34m'hard'\u001b[0m\u001b[0;34m,\u001b[0m\u001b[0;34m)\u001b[0m\u001b[0;34m\u001b[0m\u001b[0;34m\u001b[0m\u001b[0m\n\u001b[0m\u001b[1;32m      3\u001b[0m \u001b[0mlc\u001b[0m \u001b[0;34m=\u001b[0m \u001b[0mlcf\u001b[0m\u001b[0;34m.\u001b[0m\u001b[0mget_lightcurve\u001b[0m\u001b[0;34m(\u001b[0m\u001b[0;34m'PDCSAP_FLUX'\u001b[0m\u001b[0;34m)\u001b[0m\u001b[0;34m.\u001b[0m\u001b[0mremove_nans\u001b[0m\u001b[0;34m(\u001b[0m\u001b[0;34m)\u001b[0m\u001b[0;34m.\u001b[0m\u001b[0mnormalize\u001b[0m\u001b[0;34m(\u001b[0m\u001b[0;34m)\u001b[0m\u001b[0;34m\u001b[0m\u001b[0;34m\u001b[0m\u001b[0m\n\u001b[1;32m      4\u001b[0m \u001b[0;34m\u001b[0m\u001b[0m\n\u001b[1;32m      5\u001b[0m \u001b[0mlc\u001b[0m\u001b[0;34m.\u001b[0m\u001b[0mflux\u001b[0m \u001b[0;34m=\u001b[0m \u001b[0;34m(\u001b[0m\u001b[0mlc\u001b[0m\u001b[0;34m.\u001b[0m\u001b[0mflux\u001b[0m \u001b[0;34m-\u001b[0m \u001b[0;36m1.0\u001b[0m\u001b[0;34m)\u001b[0m  \u001b[0;34m*\u001b[0m \u001b[0;36m1e3\u001b[0m\u001b[0;34m\u001b[0m\u001b[0;34m\u001b[0m\u001b[0m\n",
      "\u001b[0;32m~/anaconda3/lib/python3.7/site-packages/lightkurve/utils.py\u001b[0m in \u001b[0;36mwrapper\u001b[0;34m(*args, **kwargs)\u001b[0m\n\u001b[1;32m    448\u001b[0m             \u001b[0msys\u001b[0m\u001b[0;34m.\u001b[0m\u001b[0mstdout\u001b[0m \u001b[0;34m=\u001b[0m \u001b[0mdevnull\u001b[0m\u001b[0;34m\u001b[0m\u001b[0;34m\u001b[0m\u001b[0m\n\u001b[1;32m    449\u001b[0m             \u001b[0;32mtry\u001b[0m\u001b[0;34m:\u001b[0m\u001b[0;34m\u001b[0m\u001b[0;34m\u001b[0m\u001b[0m\n\u001b[0;32m--> 450\u001b[0;31m                 \u001b[0;32mreturn\u001b[0m \u001b[0mf\u001b[0m\u001b[0;34m(\u001b[0m\u001b[0;34m*\u001b[0m\u001b[0margs\u001b[0m\u001b[0;34m,\u001b[0m \u001b[0;34m**\u001b[0m\u001b[0mkwargs\u001b[0m\u001b[0;34m)\u001b[0m\u001b[0;34m\u001b[0m\u001b[0;34m\u001b[0m\u001b[0m\n\u001b[0m\u001b[1;32m    451\u001b[0m             \u001b[0;31m# restore to default\u001b[0m\u001b[0;34m\u001b[0m\u001b[0;34m\u001b[0m\u001b[0;34m\u001b[0m\u001b[0m\n\u001b[1;32m    452\u001b[0m             \u001b[0;32mfinally\u001b[0m\u001b[0;34m:\u001b[0m\u001b[0;34m\u001b[0m\u001b[0;34m\u001b[0m\u001b[0m\n",
      "\u001b[0;32m~/anaconda3/lib/python3.7/site-packages/lightkurve/search.py\u001b[0m in \u001b[0;36mdownload\u001b[0;34m(self, quality_bitmask, download_dir, cutout_size)\u001b[0m\n\u001b[1;32m    172\u001b[0m \u001b[0;34m\u001b[0m\u001b[0m\n\u001b[1;32m    173\u001b[0m             \u001b[0;31m# open() will determine filetype and return\u001b[0m\u001b[0;34m\u001b[0m\u001b[0;34m\u001b[0m\u001b[0;34m\u001b[0m\u001b[0m\n\u001b[0;32m--> 174\u001b[0;31m             \u001b[0;32mreturn\u001b[0m \u001b[0mopen\u001b[0m\u001b[0;34m(\u001b[0m\u001b[0mpath\u001b[0m\u001b[0;34m,\u001b[0m \u001b[0mquality_bitmask\u001b[0m\u001b[0;34m=\u001b[0m\u001b[0mquality_bitmask\u001b[0m\u001b[0;34m)\u001b[0m\u001b[0;34m\u001b[0m\u001b[0;34m\u001b[0m\u001b[0m\n\u001b[0m\u001b[1;32m    175\u001b[0m \u001b[0;34m\u001b[0m\u001b[0m\n\u001b[1;32m    176\u001b[0m     \u001b[0;34m@\u001b[0m\u001b[0msuppress_stdout\u001b[0m\u001b[0;34m\u001b[0m\u001b[0;34m\u001b[0m\u001b[0m\n",
      "\u001b[0;32m~/anaconda3/lib/python3.7/site-packages/lightkurve/search.py\u001b[0m in \u001b[0;36mopen\u001b[0;34m(path_or_url, **kwargs)\u001b[0m\n\u001b[1;32m    901\u001b[0m     \"\"\"\n\u001b[1;32m    902\u001b[0m     \u001b[0;31m# pass header into `detect_filetype()`\u001b[0m\u001b[0;34m\u001b[0m\u001b[0;34m\u001b[0m\u001b[0;34m\u001b[0m\u001b[0m\n\u001b[0;32m--> 903\u001b[0;31m     \u001b[0;32mwith\u001b[0m \u001b[0mfits\u001b[0m\u001b[0;34m.\u001b[0m\u001b[0mopen\u001b[0m\u001b[0;34m(\u001b[0m\u001b[0mpath_or_url\u001b[0m\u001b[0;34m)\u001b[0m \u001b[0;32mas\u001b[0m \u001b[0mtemp\u001b[0m\u001b[0;34m:\u001b[0m\u001b[0;34m\u001b[0m\u001b[0;34m\u001b[0m\u001b[0m\n\u001b[0m\u001b[1;32m    904\u001b[0m         \u001b[0mfiletype\u001b[0m \u001b[0;34m=\u001b[0m \u001b[0mdetect_filetype\u001b[0m\u001b[0;34m(\u001b[0m\u001b[0mtemp\u001b[0m\u001b[0;34m[\u001b[0m\u001b[0;36m0\u001b[0m\u001b[0;34m]\u001b[0m\u001b[0;34m.\u001b[0m\u001b[0mheader\u001b[0m\u001b[0;34m)\u001b[0m\u001b[0;34m\u001b[0m\u001b[0;34m\u001b[0m\u001b[0m\n\u001b[1;32m    905\u001b[0m \u001b[0;34m\u001b[0m\u001b[0m\n",
      "\u001b[0;32m~/anaconda3/lib/python3.7/site-packages/astropy/io/fits/hdu/hdulist.py\u001b[0m in \u001b[0;36mfitsopen\u001b[0;34m(name, mode, memmap, save_backup, cache, lazy_load_hdus, **kwargs)\u001b[0m\n\u001b[1;32m    149\u001b[0m \u001b[0;34m\u001b[0m\u001b[0m\n\u001b[1;32m    150\u001b[0m     return HDUList.fromfile(name, mode, memmap, save_backup, cache,\n\u001b[0;32m--> 151\u001b[0;31m                             lazy_load_hdus, **kwargs)\n\u001b[0m\u001b[1;32m    152\u001b[0m \u001b[0;34m\u001b[0m\u001b[0m\n\u001b[1;32m    153\u001b[0m \u001b[0;34m\u001b[0m\u001b[0m\n",
      "\u001b[0;32m~/anaconda3/lib/python3.7/site-packages/astropy/io/fits/hdu/hdulist.py\u001b[0m in \u001b[0;36mfromfile\u001b[0;34m(cls, fileobj, mode, memmap, save_backup, cache, lazy_load_hdus, **kwargs)\u001b[0m\n\u001b[1;32m    388\u001b[0m         return cls._readfrom(fileobj=fileobj, mode=mode, memmap=memmap,\n\u001b[1;32m    389\u001b[0m                              \u001b[0msave_backup\u001b[0m\u001b[0;34m=\u001b[0m\u001b[0msave_backup\u001b[0m\u001b[0;34m,\u001b[0m \u001b[0mcache\u001b[0m\u001b[0;34m=\u001b[0m\u001b[0mcache\u001b[0m\u001b[0;34m,\u001b[0m\u001b[0;34m\u001b[0m\u001b[0;34m\u001b[0m\u001b[0m\n\u001b[0;32m--> 390\u001b[0;31m                              lazy_load_hdus=lazy_load_hdus, **kwargs)\n\u001b[0m\u001b[1;32m    391\u001b[0m \u001b[0;34m\u001b[0m\u001b[0m\n\u001b[1;32m    392\u001b[0m     \u001b[0;34m@\u001b[0m\u001b[0mclassmethod\u001b[0m\u001b[0;34m\u001b[0m\u001b[0;34m\u001b[0m\u001b[0m\n",
      "\u001b[0;32m~/anaconda3/lib/python3.7/site-packages/astropy/io/fits/hdu/hdulist.py\u001b[0m in \u001b[0;36m_readfrom\u001b[0;34m(cls, fileobj, data, mode, memmap, save_backup, cache, lazy_load_hdus, **kwargs)\u001b[0m\n\u001b[1;32m   1037\u001b[0m             \u001b[0;32mif\u001b[0m \u001b[0;32mnot\u001b[0m \u001b[0misinstance\u001b[0m\u001b[0;34m(\u001b[0m\u001b[0mfileobj\u001b[0m\u001b[0;34m,\u001b[0m \u001b[0m_File\u001b[0m\u001b[0;34m)\u001b[0m\u001b[0;34m:\u001b[0m\u001b[0;34m\u001b[0m\u001b[0;34m\u001b[0m\u001b[0m\n\u001b[1;32m   1038\u001b[0m                 \u001b[0;31m# instantiate a FITS file object (ffo)\u001b[0m\u001b[0;34m\u001b[0m\u001b[0;34m\u001b[0m\u001b[0;34m\u001b[0m\u001b[0m\n\u001b[0;32m-> 1039\u001b[0;31m                 \u001b[0mfileobj\u001b[0m \u001b[0;34m=\u001b[0m \u001b[0m_File\u001b[0m\u001b[0;34m(\u001b[0m\u001b[0mfileobj\u001b[0m\u001b[0;34m,\u001b[0m \u001b[0mmode\u001b[0m\u001b[0;34m=\u001b[0m\u001b[0mmode\u001b[0m\u001b[0;34m,\u001b[0m \u001b[0mmemmap\u001b[0m\u001b[0;34m=\u001b[0m\u001b[0mmemmap\u001b[0m\u001b[0;34m,\u001b[0m \u001b[0mcache\u001b[0m\u001b[0;34m=\u001b[0m\u001b[0mcache\u001b[0m\u001b[0;34m)\u001b[0m\u001b[0;34m\u001b[0m\u001b[0;34m\u001b[0m\u001b[0m\n\u001b[0m\u001b[1;32m   1040\u001b[0m             \u001b[0;31m# The Astropy mode is determined by the _File initializer if the\u001b[0m\u001b[0;34m\u001b[0m\u001b[0;34m\u001b[0m\u001b[0;34m\u001b[0m\u001b[0m\n\u001b[1;32m   1041\u001b[0m             \u001b[0;31m# supplied mode was None\u001b[0m\u001b[0;34m\u001b[0m\u001b[0;34m\u001b[0m\u001b[0;34m\u001b[0m\u001b[0m\n",
      "\u001b[0;32m~/anaconda3/lib/python3.7/site-packages/astropy/utils/decorators.py\u001b[0m in \u001b[0;36mwrapper\u001b[0;34m(*args, **kwargs)\u001b[0m\n\u001b[1;32m    519\u001b[0m                             \u001b[0mkwargs\u001b[0m\u001b[0;34m[\u001b[0m\u001b[0mnew_name\u001b[0m\u001b[0;34m[\u001b[0m\u001b[0mi\u001b[0m\u001b[0;34m]\u001b[0m\u001b[0;34m]\u001b[0m \u001b[0;34m=\u001b[0m \u001b[0mvalue\u001b[0m\u001b[0;34m\u001b[0m\u001b[0;34m\u001b[0m\u001b[0m\n\u001b[1;32m    520\u001b[0m \u001b[0;34m\u001b[0m\u001b[0m\n\u001b[0;32m--> 521\u001b[0;31m             \u001b[0;32mreturn\u001b[0m \u001b[0mfunction\u001b[0m\u001b[0;34m(\u001b[0m\u001b[0;34m*\u001b[0m\u001b[0margs\u001b[0m\u001b[0;34m,\u001b[0m \u001b[0;34m**\u001b[0m\u001b[0mkwargs\u001b[0m\u001b[0;34m)\u001b[0m\u001b[0;34m\u001b[0m\u001b[0;34m\u001b[0m\u001b[0m\n\u001b[0m\u001b[1;32m    522\u001b[0m \u001b[0;34m\u001b[0m\u001b[0m\n\u001b[1;32m    523\u001b[0m         \u001b[0;32mreturn\u001b[0m \u001b[0mwrapper\u001b[0m\u001b[0;34m\u001b[0m\u001b[0;34m\u001b[0m\u001b[0m\n",
      "\u001b[0;32m~/anaconda3/lib/python3.7/site-packages/astropy/io/fits/file.py\u001b[0m in \u001b[0;36m__init__\u001b[0;34m(self, fileobj, mode, memmap, overwrite, cache)\u001b[0m\n\u001b[1;32m    176\u001b[0m             \u001b[0mself\u001b[0m\u001b[0;34m.\u001b[0m\u001b[0m_open_fileobj\u001b[0m\u001b[0;34m(\u001b[0m\u001b[0mfileobj\u001b[0m\u001b[0;34m,\u001b[0m \u001b[0mmode\u001b[0m\u001b[0;34m,\u001b[0m \u001b[0moverwrite\u001b[0m\u001b[0;34m)\u001b[0m\u001b[0;34m\u001b[0m\u001b[0;34m\u001b[0m\u001b[0m\n\u001b[1;32m    177\u001b[0m         \u001b[0;32melif\u001b[0m \u001b[0misinstance\u001b[0m\u001b[0;34m(\u001b[0m\u001b[0mfileobj\u001b[0m\u001b[0;34m,\u001b[0m \u001b[0mstr\u001b[0m\u001b[0;34m)\u001b[0m\u001b[0;34m:\u001b[0m\u001b[0;34m\u001b[0m\u001b[0;34m\u001b[0m\u001b[0m\n\u001b[0;32m--> 178\u001b[0;31m             \u001b[0mself\u001b[0m\u001b[0;34m.\u001b[0m\u001b[0m_open_filename\u001b[0m\u001b[0;34m(\u001b[0m\u001b[0mfileobj\u001b[0m\u001b[0;34m,\u001b[0m \u001b[0mmode\u001b[0m\u001b[0;34m,\u001b[0m \u001b[0moverwrite\u001b[0m\u001b[0;34m)\u001b[0m\u001b[0;34m\u001b[0m\u001b[0;34m\u001b[0m\u001b[0m\n\u001b[0m\u001b[1;32m    179\u001b[0m         \u001b[0;32melse\u001b[0m\u001b[0;34m:\u001b[0m\u001b[0;34m\u001b[0m\u001b[0;34m\u001b[0m\u001b[0m\n\u001b[1;32m    180\u001b[0m             \u001b[0mself\u001b[0m\u001b[0;34m.\u001b[0m\u001b[0m_open_filelike\u001b[0m\u001b[0;34m(\u001b[0m\u001b[0mfileobj\u001b[0m\u001b[0;34m,\u001b[0m \u001b[0mmode\u001b[0m\u001b[0;34m,\u001b[0m \u001b[0moverwrite\u001b[0m\u001b[0;34m)\u001b[0m\u001b[0;34m\u001b[0m\u001b[0;34m\u001b[0m\u001b[0m\n",
      "\u001b[0;32m~/anaconda3/lib/python3.7/site-packages/astropy/io/fits/file.py\u001b[0m in \u001b[0;36m_open_filename\u001b[0;34m(self, filename, mode, overwrite)\u001b[0m\n\u001b[1;32m    553\u001b[0m \u001b[0;34m\u001b[0m\u001b[0m\n\u001b[1;32m    554\u001b[0m         \u001b[0;32mif\u001b[0m \u001b[0;32mnot\u001b[0m \u001b[0mself\u001b[0m\u001b[0;34m.\u001b[0m\u001b[0m_try_read_compressed\u001b[0m\u001b[0;34m(\u001b[0m\u001b[0mself\u001b[0m\u001b[0;34m.\u001b[0m\u001b[0mname\u001b[0m\u001b[0;34m,\u001b[0m \u001b[0mmagic\u001b[0m\u001b[0;34m,\u001b[0m \u001b[0mmode\u001b[0m\u001b[0;34m,\u001b[0m \u001b[0mext\u001b[0m\u001b[0;34m=\u001b[0m\u001b[0mext\u001b[0m\u001b[0;34m)\u001b[0m\u001b[0;34m:\u001b[0m\u001b[0;34m\u001b[0m\u001b[0;34m\u001b[0m\u001b[0m\n\u001b[0;32m--> 555\u001b[0;31m             \u001b[0mself\u001b[0m\u001b[0;34m.\u001b[0m\u001b[0m_file\u001b[0m \u001b[0;34m=\u001b[0m \u001b[0mfileobj_open\u001b[0m\u001b[0;34m(\u001b[0m\u001b[0mself\u001b[0m\u001b[0;34m.\u001b[0m\u001b[0mname\u001b[0m\u001b[0;34m,\u001b[0m \u001b[0mIO_FITS_MODES\u001b[0m\u001b[0;34m[\u001b[0m\u001b[0mmode\u001b[0m\u001b[0;34m]\u001b[0m\u001b[0;34m)\u001b[0m\u001b[0;34m\u001b[0m\u001b[0;34m\u001b[0m\u001b[0m\n\u001b[0m\u001b[1;32m    556\u001b[0m             \u001b[0mself\u001b[0m\u001b[0;34m.\u001b[0m\u001b[0mclose_on_error\u001b[0m \u001b[0;34m=\u001b[0m \u001b[0;32mTrue\u001b[0m\u001b[0;34m\u001b[0m\u001b[0;34m\u001b[0m\u001b[0m\n\u001b[1;32m    557\u001b[0m \u001b[0;34m\u001b[0m\u001b[0m\n",
      "\u001b[0;32m~/anaconda3/lib/python3.7/site-packages/astropy/io/fits/util.py\u001b[0m in \u001b[0;36mfileobj_open\u001b[0;34m(filename, mode)\u001b[0m\n\u001b[1;32m    386\u001b[0m     \"\"\"\n\u001b[1;32m    387\u001b[0m \u001b[0;34m\u001b[0m\u001b[0m\n\u001b[0;32m--> 388\u001b[0;31m     \u001b[0;32mreturn\u001b[0m \u001b[0mopen\u001b[0m\u001b[0;34m(\u001b[0m\u001b[0mfilename\u001b[0m\u001b[0;34m,\u001b[0m \u001b[0mmode\u001b[0m\u001b[0;34m,\u001b[0m \u001b[0mbuffering\u001b[0m\u001b[0;34m=\u001b[0m\u001b[0;36m0\u001b[0m\u001b[0;34m)\u001b[0m\u001b[0;34m\u001b[0m\u001b[0;34m\u001b[0m\u001b[0m\n\u001b[0m\u001b[1;32m    389\u001b[0m \u001b[0;34m\u001b[0m\u001b[0m\n\u001b[1;32m    390\u001b[0m \u001b[0;34m\u001b[0m\u001b[0m\n",
      "\u001b[0;31mFileNotFoundError\u001b[0m: [Errno 2] No such file or directory: '/Users/emilygilbert/.lightkurve-cache/mastDownload/TESS/tess2018206045859-s0001-0000000441420236-0120-s/tess2018206045859-s0001-0000000441420236-0120-s_lc.fits'"
     ]
    }
   ],
   "source": [
    "target = 'AU Mic'\n",
    "lcf = lk.search_lightcurvefile(target).download(quality_bitmask='hard',)\n",
    "lc = lcf.get_lightcurve('PDCSAP_FLUX').remove_nans().normalize()\n",
    "\n",
    "lc.flux = (lc.flux - 1.0)  * 1e3\n",
    "texp = lcf.hdu[1].header['FRAMETIM'] * lcf.hdu[1].header[\"NUM_FRM\"]\n",
    "texp /= 60.0 * 60.0 * 24.0\n",
    "ref_time = 0.5 * (lcf.time.min() + lcf.time.max())\n",
    "\n",
    "lc.plot(normalize=False, ylabel='Relative flux [ppt]')"
   ]
  },
  {
   "cell_type": "code",
   "execution_count": null,
   "metadata": {},
   "outputs": [],
   "source": []
  },
  {
   "cell_type": "code",
   "execution_count": null,
   "metadata": {},
   "outputs": [],
   "source": [
    "# get a smoothed version of the light curve\n",
    "smooth = savgol_filter(lc.flux, 301, polyorder=2)\n",
    "resid = lc.flux - smooth\n",
    "mask = resid < 2*np.sqrt(np.mean(resid**2))\n",
    "\n",
    "plt.figure(figsize=(10, 5))\n",
    "plt.plot(lc.time, lc.flux, \"r\")\n",
    "plt.plot(lc.time[mask], lc.flux[mask], \"k\")\n",
    "plt.plot(lc.time, smooth)\n",
    "plt.xlabel(\"time [days]\")\n",
    "plt.ylabel(\"de-trended flux [ppt]\")\n",
    "plt.title(\"initial de-trended light curve\")\n",
    "plt.xlim(lc.time.min(), lc.time.max());"
   ]
  },
  {
   "cell_type": "code",
   "execution_count": null,
   "metadata": {},
   "outputs": [],
   "source": [
    "# find some flares\n",
    "mflare = resid < 3.5 * np.sqrt(np.mean(resid**2))\n",
    "cads = lc.cadenceno - lc.cadenceno[0]\n",
    "x = lc.time - ref_time\n",
    "y = resid #  we're working with the data with a savgol subtracted\n",
    "\n",
    "fidx = cads[~mflare][:-1]#[np.diff(cads[~mflare]) < 1]\n",
    "npts = np.array([])\n",
    "i = 0\n",
    "n = 1\n",
    "while True:\n",
    "    try:\n",
    "        if fidx[i + 1] == fidx[i] + n:\n",
    "            fidx = np.delete(fidx, i + 1)\n",
    "            n += 1\n",
    "        else:\n",
    "            npts = np.r_[npts, n+1]\n",
    "            i += 1\n",
    "            n = 1\n",
    "    except IndexError:\n",
    "        npts = np.r_[npts, n+1]\n",
    "        break\n",
    "tpeaks = np.array([x[(lc.cadenceno - lc.cadenceno[0]) == fidx[i]] for i in range(len(fidx))]).T[0]\n",
    "ampls = np.array([resid[(lc.cadenceno - lc.cadenceno[0]) == fidx[i]] for i in range(len(fidx))]).T[0]\n",
    "fwhms = np.asarray(npts) * (2/1440)\n",
    "npeaks = np.shape(tpeaks)[0]\n",
    "print(npeaks)"
   ]
  },
  {
   "cell_type": "code",
   "execution_count": null,
   "metadata": {},
   "outputs": [],
   "source": [
    "fig, axes = plt.subplots(ncols=2, nrows=np.ceil(npeaks/2).astype(int), figsize=[12,npeaks])\n",
    "axes = axes.flatten()\n",
    "for i in range(npeaks):\n",
    "    ax = axes[i]\n",
    "    ax.plot(x, y)\n",
    "    ax.axvline(tpeaks[i], np.min(y), np.max(y), color='r', linestyle=':')\n",
    "    ax.set_xlim(tpeaks[i]-0.2, tpeaks[i]+0.2)\n",
    "    ax.set_ylim(np.min(y), np.max(ampls[i]+3))"
   ]
  },
  {
   "cell_type": "code",
   "execution_count": null,
   "metadata": {},
   "outputs": [],
   "source": [
    "y = lc.flux\n",
    "yerr = lc.flux_err * 1e3\n",
    "\n",
    "results = xo.estimators.lomb_scargle_estimator(\n",
    "    x, y, max_peaks=1, min_period=1.0, max_period=30.0,\n",
    "    samples_per_peak=50)\n",
    "\n",
    "peak = results[\"peaks\"][0]\n",
    "ls_period = peak[\"period\"]\n",
    "freq, power = results[\"periodogram\"]\n",
    "plt.plot(-np.log10(freq), power, \"k\")\n",
    "plt.axvline(np.log10(ls_period), color=\"k\", lw=4, alpha=0.3)\n",
    "plt.xlim((-np.log10(freq)).min(), (-np.log10(freq)).max())\n",
    "plt.annotate(\"period = {0:.4f} d\".format(ls_period),\n",
    "             (0, 1), xycoords=\"axes fraction\",\n",
    "             xytext=(5, -5), textcoords=\"offset points\",\n",
    "             va=\"top\", ha=\"left\", fontsize=12)\n",
    "plt.yticks([])\n",
    "plt.xlabel(\"log10(period)\")\n",
    "plt.ylabel(\"power\");"
   ]
  },
  {
   "cell_type": "code",
   "execution_count": null,
   "metadata": {},
   "outputs": [],
   "source": [
    "def build_model(mask=None, start=None):\n",
    "    if mask is None:\n",
    "        mask = np.ones_like(x, dtype=bool)\n",
    "    with pm.Model() as model:\n",
    "\n",
    "        # The mean flux of the time series\n",
    "        mean = pm.Normal(\"mean\", mu=0, sd=15.0)\n",
    "\n",
    "        # A jitter term describing excess white noise\n",
    "        logs2 = pm.Normal(\"logs2\", mu=2*np.log(np.min(yerr[mask])), sd=5.0)\n",
    "\n",
    "        # A SHO term to capture long term trends\n",
    "        logS = pm.Normal(\"logS\", mu=0.0, sd=15.0, testval=np.log(np.var(y[mask])))\n",
    "        logw = pm.Normal(\"logw\", mu=np.log(2*np.pi/10.0), sd=10.0)\n",
    "        term1 = xo.gp.terms.SHOTerm(log_S0=logS, log_w0=logw, Q=1/np.sqrt(2))\n",
    "        \n",
    "        # The parameters of the RotationTerm kernel\n",
    "        logamp = pm.Normal(\"logamp\", mu=np.log(np.var(y[mask])), sd=5.0)\n",
    "        logperiod = pm.Normal(\"logperiod\", mu=np.log(ls_period), sd=0.2)\n",
    "        period = pm.Deterministic(\"period\", tt.exp(logperiod))\n",
    "        logQ0 = pm.Normal(\"logQ0\", mu=1.0, sd=10.0)\n",
    "        logdeltaQ = pm.Normal(\"logdeltaQ\", mu=2.0, sd=10.0)\n",
    "        mix = pm.Uniform(\"mix\", lower=0, upper=1.0)\n",
    "        term2 = xo.gp.terms.RotationTerm(\n",
    "            log_amp=logamp,\n",
    "            period=period,\n",
    "            log_Q0=logQ0,\n",
    "            log_deltaQ=logdeltaQ,\n",
    "            mix=mix\n",
    "        )\n",
    "\n",
    "        tpeak = pm.Normal(\"tpeak\", mu=tpeaks, sd=np.ones_like(tpeaks) * 0.003,\n",
    "                      testval=tpeaks, shape=npeaks)\n",
    "        logFwhm = pm.Normal(\"logFwhm\", mu=np.log(fwhms), sd=1.0, testval=np.log(fwhms),\n",
    "                        shape=npeaks)\n",
    "        logAmpl = pm.Normal(\"logAmpl\", mu=np.log(ampls), sd=1.0, testval=np.log(ampls),\n",
    "                        shape=npeaks)\n",
    "        fwhm = pm.Deterministic(\"fwhm\", tt.exp(logFwhm))\n",
    "        ampl = pm.Deterministic(\"ampl\", tt.exp(logAmpl))\n",
    "        \n",
    "        light_curve = xoflares.get_light_curve(x[mask], tpeak, fwhm, ampl, texp=texp, oversample=9)\n",
    "        pm.Deterministic(\"light_curve\", light_curve)\n",
    "        model.light_curves = light_curve\n",
    "\n",
    "        # Set up the Gaussian Process model\n",
    "        kernel = term1 + term2\n",
    "        gp = xo.gp.GP(kernel, x[mask], yerr[mask]**2 + tt.exp(logs2), J=6)\n",
    "\n",
    "        # Compute the Gaussian Process likelihood and add it into the\n",
    "        # the PyMC3 model as a \"potential\"\n",
    "        pm.Potential(\"loglike\", gp.log_likelihood(y[mask] - mean - light_curve))\n",
    "\n",
    "        # Compute the mean model prediction for plotting purposes\n",
    "        pm.Deterministic(\"pred\", gp.predict())\n",
    "\n",
    "        # Optimize to find the maximum a posteriori parameters\n",
    "        if start is None:\n",
    "            start = model.test_point\n",
    "        map_soln = xo.optimize(start=start, vars=[mean, logs2])\n",
    "        map_soln = xo.optimize(start=map_soln, vars=[mean, logs2, logS, logw])\n",
    "        map_soln = xo.optimize(start=map_soln, vars=[fwhm, mean])\n",
    "        map_soln = xo.optimize(start=map_soln, vars=[ampl, mean])\n",
    "        map_soln = xo.optimize(start=map_soln, vars=[fwhm, ampl])\n",
    "        map_soln = xo.optimize(start=map_soln, vars=[tpeak])\n",
    "        map_soln = xo.optimize(start=map_soln, vars=[mean, logs2, logamp, logQ0, logdeltaQ, mix])\n",
    "        map_soln = xo.optimize(start=map_soln, vars=[mean, logs2])\n",
    "        map_soln = xo.optimize(start=map_soln, vars=[mean, logs2, logS, logw])\n",
    "        map_soln = xo.optimize(start=map_soln, vars=[fwhm, mean])\n",
    "        map_soln = xo.optimize(start=map_soln, vars=[ampl, mean])\n",
    "        map_soln = xo.optimize(start=map_soln, vars=[fwhm, ampl])\n",
    "        map_soln = xo.optimize(start=map_soln, vars=[tpeak])\n",
    "        map_soln = xo.optimize(start=map_soln, vars=[tpeak,fwhm, ampl])\n",
    "    return model, map_soln\n",
    "\n",
    "model0, map_soln0 = build_model()"
   ]
  },
  {
   "cell_type": "code",
   "execution_count": null,
   "metadata": {},
   "outputs": [],
   "source": [
    "def plot_light_curve(model, soln, mask=None):\n",
    "    if mask is None:\n",
    "        mask = np.ones(len(x), dtype=bool)\n",
    "\n",
    "    fig, axes = plt.subplots(3, 1, figsize=(10, 7), sharex=True)\n",
    "\n",
    "    ax = axes[0]\n",
    "    ax.plot(x[mask], y[mask], \"k\", label=\"data\")\n",
    "    gp_mod = xo.utils.eval_in_model(model.pred, soln, model=model)\n",
    "    gp_mod += soln[\"mean\"]\n",
    "    ax.plot(x[mask], gp_mod, color=\"C2\", label=\"gp model\")\n",
    "    ax.legend(fontsize=10)\n",
    "    ax.set_ylabel(\"relative flux [ppt]\")\n",
    "\n",
    "    ax = axes[1]\n",
    "    ax.plot(x[mask], y[mask] - gp_mod, \"k\", label=\"de-trended data\")\n",
    "    light_curve = xo.utils.eval_in_model(model.light_curves, soln, model=model)\n",
    "\n",
    "    mod = light_curve\n",
    "    ax.plot(x[mask], mod,)\n",
    "    ax.legend(fontsize=10)\n",
    "    ax.set_ylabel(\"de-trended flux [ppt]\")\n",
    "\n",
    "    ax = axes[2]\n",
    "    mod = gp_mod + light_curve\n",
    "    ax.plot(x[mask], y[mask] - mod, \"k\")\n",
    "    ax.axhline(0, color=\"#aaaaaa\", lw=1)\n",
    "    ax.set_ylabel(\"residuals [ppt]\")\n",
    "    ax.set_xlim(x[mask].min(), x[mask].max())\n",
    "    ax.set_xlabel(\"time [days]\")\n",
    "    \n",
    "    return fig\n",
    "    \n",
    "plot_light_curve(model0, map_soln0);"
   ]
  },
  {
   "cell_type": "code",
   "execution_count": null,
   "metadata": {},
   "outputs": [],
   "source": [
    "mod = map_soln0[\"pred\"] + map_soln0[\"mean\"] + map_soln0[\"light_curve\"]\n",
    "resid = y - mod\n",
    "rms = np.sqrt(np.median(resid**2))\n",
    "mask = np.abs(resid) < 5 * rms\n",
    "\n",
    "plt.figure(figsize=(10, 5))\n",
    "plt.plot(x, resid, \"k\", label=\"data\")\n",
    "plt.plot(x[~mask], resid[~mask], \"xr\", label=\"outliers\")\n",
    "plt.axhline(0, color=\"#aaaaaa\", lw=1)\n",
    "plt.ylabel(\"residuals [ppt]\")\n",
    "plt.xlabel(\"time [days]\")\n",
    "plt.legend(fontsize=12, loc=3)\n",
    "plt.xlim(x.min(), x.max());"
   ]
  },
  {
   "cell_type": "code",
   "execution_count": null,
   "metadata": {},
   "outputs": [],
   "source": [
    "\n",
    "model, map_soln1 = build_model(mask=None, start=map_soln0)\n",
    "fig = plot_light_curve(model, map_soln1, mask=None)"
   ]
  },
  {
   "cell_type": "code",
   "execution_count": null,
   "metadata": {},
   "outputs": [],
   "source": [
    "with model:\n",
    "    map_soln2 = xo.optimize(start=map_soln1,)\n"
   ]
  },
  {
   "cell_type": "code",
   "execution_count": null,
   "metadata": {},
   "outputs": [],
   "source": [
    "# sampler = xo.PyMC3Sampler(window=200, start=500, finish=500)\n",
    "# with model:\n",
    "#     burnin = sampler.tune(tune=4500, start=map_soln2,\n",
    "#                           step_kwargs=dict(target_accept=0.9),\n",
    "#                           chains=4)"
   ]
  },
  {
   "cell_type": "code",
   "execution_count": null,
   "metadata": {},
   "outputs": [],
   "source": [
    "# with model:\n",
    "#     trace = sampler.sample(draws=3000, chains=4)"
   ]
  },
  {
   "cell_type": "code",
   "execution_count": null,
   "metadata": {},
   "outputs": [],
   "source": [
    "with model:\n",
    "    mean_field = pm.fit(method='advi', start=map_soln2,  n=100000)"
   ]
  },
  {
   "cell_type": "markdown",
   "metadata": {},
   "source": []
  },
  {
   "cell_type": "code",
   "execution_count": null,
   "metadata": {},
   "outputs": [],
   "source": [
    "with model:\n",
    "    trace = mean_field.sample(3000)"
   ]
  },
  {
   "cell_type": "code",
   "execution_count": null,
   "metadata": {},
   "outputs": [],
   "source": [
    "fig, axes = plt.subplots(1,1, figsize=[4, 4])\n",
    "ax = axes\n",
    "ax.hist( trace['period'], bins=20, histtype='step', color=\"k\")\n",
    "plt.yticks([])\n",
    "\n",
    "ax.set_xlabel(\"rotation period [days]\")\n",
    "ax.set_ylabel(\"posterior density\");\n",
    "\n",
    "plt.tight_layout()\n",
    "fig.savefig('aumic-rotation.png', dpi=200)\n",
    "q = np.percentile(trace['period'], [16,50,84])\n",
    "print('Prot = {} +{} - {}'.format(q[1], q[2] - q[1], q[1]-q[0]))\n"
   ]
  },
  {
   "cell_type": "code",
   "execution_count": null,
   "metadata": {},
   "outputs": [],
   "source": [
    "fig, axes = plt.subplots(3, 1, figsize=(14, 7), sharex=True)\n",
    "\n",
    "ax = axes[0]\n",
    "ax.plot(x, y, \".k\", label=\"data\", ms=1)\n",
    "gp_mod = np.median(trace['pred'], axis=0)\n",
    "gp_mod += np.median(trace[\"mean\"])\n",
    "ax.plot(x, gp_mod, color=\"C2\", label=\"gp model\")\n",
    "ax.legend(fontsize=12)\n",
    "ax.set_ylabel(\"relative flux [ppt]\", fontsize=12)\n",
    "\n",
    "ax = axes[1]\n",
    "ax.plot(x, y - gp_mod, \".k\", label=\"de-trended data\", ms=1)\n",
    "light_curve = np.median(trace['light_curve'], axis=0)\n",
    "\n",
    "mod = light_curve\n",
    "ax.plot(x, mod, label='flare model')\n",
    "ax.legend(fontsize=12)\n",
    "ax.set_ylabel(\"de-trended flux [ppt]\", fontsize=12)\n",
    "\n",
    "ax = axes[2]\n",
    "# mod = gp_mod + light_curve\n",
    "# ax.plot(x, y - mod, \"k\")\n",
    "# ax.axhline(0, color=\"#aaaaaa\", lw=1)\n",
    "# ax.set_ylabel(\"residuals [ppt]\", fontsize=12)\n",
    "ax.plot(x, y - gp_mod, \".k\", label=\"de-trended data\", ms=1)\n",
    "ax.plot(x, mod, label='flare model')\n",
    "\n",
    "ax.legend(fontsize=12, loc=3, ncol=2)\n",
    "ax.set_ylabel(\"de-trended flux [ppt]\", fontsize=12)\n",
    "ax.set_ylim(-5,6)\n",
    "\n",
    "ax.set_xlim(x.min(), -5)\n",
    "ax.set_xlabel(\"time [days]\", fontsize=12)\n",
    "\n",
    "plt.tight_layout()"
   ]
  },
  {
   "cell_type": "code",
   "execution_count": null,
   "metadata": {},
   "outputs": [],
   "source": [
    "flc =  np.percentile(trace['light_curve'], [16, 50, 84], axis=0)\n",
    "fig, axes = plt.subplots(ncols=2, nrows=np.ceil(npeaks/2).astype(int), figsize=[12,npeaks*2])\n",
    "axes = axes.flatten()\n",
    "for i in range(npeaks):\n",
    "    timemask = (x >= tpeaks[i]-0.2) * (x < tpeaks[i]+0.2)\n",
    "    ax = axes[i]\n",
    "    ax.plot(x[timemask], y[timemask]-gp_mod[timemask], '.k')\n",
    "    ax.plot(x[timemask], flc[1][timemask], color=\"C1\", label=\"model\")\n",
    "    art = ax.fill_between(x[timemask], flc[0][timemask],\n",
    "                          flc[2][timemask], color=\"C1\", alpha=0.3,\n",
    "                               zorder=1000)\n",
    "    art.set_edgecolor(\"none\")\n",
    "    ax.set_xlim(tpeaks[i]-0.05, tpeaks[i]+0.1)\n",
    "    ax.set_ylim(np.min(y[timemask]-gp_mod[timemask]) - 1, 1 + np.max(y[timemask]-gp_mod[timemask]))\n",
    "    ax.legend()\n",
    "    \n",
    "fig.tight_layout()"
   ]
  },
  {
   "cell_type": "code",
   "execution_count": null,
   "metadata": {},
   "outputs": [],
   "source": []
  }
 ],
 "metadata": {
  "kernelspec": {
   "display_name": "Python 3",
   "language": "python",
   "name": "python3"
  },
  "language_info": {
   "codemirror_mode": {
    "name": "ipython",
    "version": 3
   },
   "file_extension": ".py",
   "mimetype": "text/x-python",
   "name": "python",
   "nbconvert_exporter": "python",
   "pygments_lexer": "ipython3",
   "version": "3.7.3"
  }
 },
 "nbformat": 4,
 "nbformat_minor": 2
}
